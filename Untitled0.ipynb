{
  "nbformat": 4,
  "nbformat_minor": 0,
  "metadata": {
    "colab": {
      "provenance": []
    },
    "kernelspec": {
      "name": "python3",
      "display_name": "Python 3"
    },
    "language_info": {
      "name": "python"
    }
  },
  "cells": [
    {
      "cell_type": "markdown",
      "source": [
        "Programa #1"
      ],
      "metadata": {
        "id": "Iv9amVU0lyI3"
      }
    },
    {
      "cell_type": "markdown",
      "source": [
        "Dado un número entero, determinar si ese número corresponde al código ASCII de una vocal minúscula."
      ],
      "metadata": {
        "id": "ZGPZksF5OHDf"
      }
    },
    {
      "cell_type": "code",
      "source": [
        "dato = int(input(\"Ingrese un número entero: \"))\n",
        "letra = chr(dato)\n",
        "\n",
        "if letra in ['a', 'e', 'i', 'o', 'u']:\n",
        "    print(f\"El número ingresado corresponde al código ASCII de '{letra}', que es una vocal minúscula.\")\n",
        "else:\n",
        "    print(f\"El número ingresado corresponde al código ASCII de '{letra}', pero no es una vocal minúscula.\")"
      ],
      "metadata": {
        "id": "WQw-axMUlX6P"
      },
      "execution_count": null,
      "outputs": []
    },
    {
      "cell_type": "markdown",
      "source": [
        "Programa #2"
      ],
      "metadata": {
        "id": "JqaS03b-l7RX"
      }
    },
    {
      "cell_type": "markdown",
      "source": [
        "Dada una cadena de longitud 1, determine si el código ASCII de primera letra de la cadena es par o no."
      ],
      "metadata": {
        "id": "Xjs4LUwOOWSP"
      }
    },
    {
      "cell_type": "code",
      "source": [
        "cadena = input(\"Ingrese una cadena de longitud 1: \")\n",
        "codigo_ascii = ord(cadena)\n",
        "if codigo_ascii % 2 == 0:\n",
        "    print(f\"El código ASCII de '{cadena}' es {codigo_ascii} y es un número par\")\n",
        "else:\n",
        "    print(f\"El código ASCII de '{cadena}' es {codigo_ascii} y es un número impar\")"
      ],
      "metadata": {
        "id": "ncIRIUA2l9S3"
      },
      "execution_count": null,
      "outputs": []
    },
    {
      "cell_type": "markdown",
      "source": [
        "Programa #3"
      ],
      "metadata": {
        "id": "_e93Xw0etfLv"
      }
    },
    {
      "cell_type": "markdown",
      "source": [
        "Dado un carácter, construya un programa en Python para determinar si el carácter es un dígito o no."
      ],
      "metadata": {
        "id": "IhbUl2RjOaWH"
      }
    },
    {
      "cell_type": "code",
      "source": [
        "caracter = input(\"Ingrese un caracter: \")\n",
        "\n",
        "if caracter == caracter[0]:\n",
        "    if '0' <= caracter <= '9':\n",
        "        print(f\"El caracter '{caracter}' es un dígito.\")\n",
        "    else:\n",
        "        print(f\"El caracter '{caracter}' no es un dígito.\")\n",
        "else:\n",
        "    print(\"Error: Debe ingresar un solo caracter.\")"
      ],
      "metadata": {
        "id": "eFBqT1rRtk8f"
      },
      "execution_count": null,
      "outputs": []
    },
    {
      "cell_type": "markdown",
      "source": [
        "Programa #4"
      ],
      "metadata": {
        "id": "L5PZY3QYqSon"
      }
    },
    {
      "cell_type": "markdown",
      "source": [
        "Realice un programa que lea dos números reales y determine si el primero es múltiplo del segundo."
      ],
      "metadata": {
        "id": "t8X0znNSOckQ"
      }
    },
    {
      "cell_type": "code",
      "source": [
        "numero_uno = float(input(\"Ingrese un primer número real: \"))\n",
        "numero_dos = float(input(\"Ingrese un segundo número real: \"))\n",
        "multiplo = numero_uno % numero_dos\n",
        "\n",
        "if multiplo == 0:\n",
        "    print(f\"El número {numero_uno} es múltiplo del segundo número digitado {numero_dos}.\")\n",
        "else:\n",
        "    print(f\"El número {numero_uno} no es múltiplo del segundo número digitado {numero_dos}.\")"
      ],
      "metadata": {
        "id": "vF4G_SkEqUGn"
      },
      "execution_count": null,
      "outputs": []
    },
    {
      "cell_type": "markdown",
      "source": [
        "Programa #5"
      ],
      "metadata": {
        "id": "sw0RHAUZw2fX"
      }
    },
    {
      "cell_type": "markdown",
      "source": [
        "Dado un número real x, construya un programa que permita determinar si el número es positivo, negativo o cero. Para cada caso de debe imprimir el texto que se especifica a continuación:\n",
        "\n",
        "Positivo: \"El número x es positivo\"\n",
        "\n",
        "Negativo: \"El número x es negativo\"\n",
        "\n",
        "Cero (0): \"El número x es el neutro para la suma\""
      ],
      "metadata": {
        "id": "dAf-2-g-OjSv"
      }
    },
    {
      "cell_type": "code",
      "source": [
        "numero = float(input(\"Ingrese un número: \"))\n",
        "\n",
        "if numero < 0:\n",
        "    print(f\"El número '{numero}' es negativo.\")\n",
        "elif numero == 0:\n",
        "    print(f\"El número '{numero}' es 0.\" )\n",
        "else:\n",
        "    print(f\"El número '{numero}' es positivo.\")"
      ],
      "metadata": {
        "id": "MNlf89x3w7I3"
      },
      "execution_count": null,
      "outputs": []
    },
    {
      "cell_type": "markdown",
      "source": [
        "Programa #6"
      ],
      "metadata": {
        "id": "tQqIjkH9ykSg"
      }
    },
    {
      "cell_type": "markdown",
      "source": [
        "Dado el centro y el radio de un círculo, determinar si un punto de R2 pertenece o no al interior del círculo."
      ],
      "metadata": {
        "id": "53QsaMfxOoUv"
      }
    },
    {
      "cell_type": "code",
      "source": [
        "equis_centro = float(input(\"Ingrese la coordenada x del centro del círculo: \"))\n",
        "ye_centro = float(input(\"Ingrese la coordenada y del centro del círculo: \"))\n",
        "r = float(input(\"Ingrese el radio del círculo: \"))\n",
        "\n",
        "x = float(input(\"Ingrese la coordenada x del punto: \"))\n",
        "y = float(input(\"Ingrese la coordenada y del punto: \"))\n",
        "\n",
        "distancia = (x - equis_centro)**2 + (y - ye_centro)**2\n",
        "\n",
        "if distancia <=r**2:\n",
        "    print(f\"El punto ({equis_centro},{ye_centro}) está dentro del rango del círculo.\")\n",
        "else:\n",
        "    print(f\"El punto ({equis_centro},{ye_centro}) no está dentro del rango del círculo.\")"
      ],
      "metadata": {
        "id": "doG9Lianyl34"
      },
      "execution_count": null,
      "outputs": []
    },
    {
      "cell_type": "markdown",
      "source": [
        "Programa #7"
      ],
      "metadata": {
        "id": "YnuzaOEX3d4Y"
      }
    },
    {
      "cell_type": "markdown",
      "source": [
        "Dadas tres longitudes positivas, determinar si con esas longitudes se puede construir un triángulo."
      ],
      "metadata": {
        "id": "wJtXmSGdOrU3"
      }
    },
    {
      "cell_type": "code",
      "source": [
        "a = longitud_a = float(input(\"Ingrese la primera longitud: \"))\n",
        "b = longitud_b = float(input(\"Ingrese la segunda longitud: \"))\n",
        "c = longitud_c = float(input(\"Ingrese la tercera longitud: \"))\n",
        "\n",
        "if a+b>c and b+c>a and a+c>b:\n",
        "    print(\"Con las longitudes ingresadas se puede formar un triángulo.\")\n",
        "else:\n",
        "    print(\"Con las longitudes ingresadas no se puede formar un triángulo.\")"
      ],
      "metadata": {
        "id": "3h4d-QEP3fQY"
      },
      "execution_count": null,
      "outputs": []
    },
    {
      "cell_type": "markdown",
      "source": [
        "Programa #8"
      ],
      "metadata": {
        "id": "RSk_Ti565lyY"
      }
    },
    {
      "cell_type": "markdown",
      "source": [
        "Escriba un programa que reciba el nombre en minúsculas de un país de America y retorne la ciudad capital, si el país no pertenece al continente debe arrojar país no identificado (Utilice match-case)."
      ],
      "metadata": {
        "id": "vI9L5rGQOsuI"
      }
    },
    {
      "cell_type": "code",
      "source": [
        "pais = input(\"Escriba el nombre de un país ubicado en el continente americano en minúscula: \")\n",
        "\n",
        "if pais == \"argentina\":\n",
        "    print(\"Buenos Aires.\")\n",
        "elif pais == \"brazil\":\n",
        "    print(\"Brasilia.\")\n",
        "elif pais == \"canada\":\n",
        "    print(\"Ottawa.\")\n",
        "elif pais == \"chile\":\n",
        "    print(\"Santiago de Chile.\")\n",
        "elif pais == \"colombia\":\n",
        "    print(\"Bogotá.\")\n",
        "elif pais == \"ecuador\":\n",
        "    print(\"Quito.\")\n",
        "elif pais == \"perú\":\n",
        "    print(\"Lima.\")\n",
        "elif pais == \"méxico\":\n",
        "    print (\"Ciudad de México.\")\n",
        "elif pais == \"venezuela\":\n",
        "    print (\"Caracas.\")\n",
        "elif pais == \"bolivia\":\n",
        "    print (\"Sucre.\")\n",
        "elif pais == \"paraguay\":\n",
        "    print (\"Asunción.\")\n",
        "elif pais == \"uruguay\":\n",
        "    print (\"Montevideo.\")\n",
        "elif pais == \"guatemala\":\n",
        "    print (\"Ciudad de Guatemala.\")\n",
        "elif pais == \"panamá\":\n",
        "    print (\"Ciudad de Panamá.\")\n",
        "elif pais == \"costa rica\":\n",
        "    print (\"San José.\")\n",
        "elif pais == \"el salvador\":\n",
        "    print (\"San Salvador.\")\n",
        "elif pais == \"nicaragua\":\n",
        "    print (\"Managua.\")\n",
        "elif pais == \"honduras\":\n",
        "    print (\"Tegucigalpa.\")\n",
        "elif pais == \"república dominicana\":\n",
        "    print (\"Santo Domingo.\")\n",
        "elif pais == \"haití\":\n",
        "    print (\"Puerto Príncipe.\")\n",
        "elif pais == \"jamaica\":\n",
        "    print (\"Kingston.\")\n",
        "elif pais == \"trinidad y tobago\":\n",
        "    print (\"Puerto España.\")\n",
        "elif pais == \"estados unidos\":\n",
        "    print (\"Washington D.C.\")\n",
        "elif pais == \"belice\":\n",
        "    print (\"Belmopán.\")\n",
        "elif pais == \"guyana\":\n",
        "    print (\"Georgetown.\")\n",
        "elif pais == \"surinam\":\n",
        "    print (\"Paramaribo.\")\n",
        "elif pais == \"bahamas\":\n",
        "    print (\"Nassau.\")\n",
        "elif pais == \"barbados\":\n",
        "    print (\"Bridgetown.\")\n",
        "elif pais == \"cuba\":\n",
        "    print(\"La Habana.\")\n",
        "elif pais == \"dominica\":\n",
        "    print(\"Roseau.\")\n",
        "elif pais == \"granada\":\n",
        "    print(\"Saint George's.\")\n",
        "elif pais == \"antigua y barbuda\":\n",
        "    print(\"Saint John's.\")\n",
        "elif pais == \"san cristóbal y nieves\":\n",
        "    print(\"Basseterre.\")\n",
        "elif pais == \"santa lucía\":\n",
        "    print(\"Castries.\")\n",
        "else:\n",
        "    print(\"País no identificado\")"
      ],
      "metadata": {
        "id": "wEJUrjkY5nLY"
      },
      "execution_count": null,
      "outputs": []
    }
  ]
}